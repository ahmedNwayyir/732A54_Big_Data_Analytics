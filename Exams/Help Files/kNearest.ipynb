{
 "cells": [
  {
   "cell_type": "code",
   "execution_count": 3,
   "metadata": {},
   "outputs": [
    {
     "output_type": "stream",
     "name": "stdout",
     "text": "[(1, (0.5, 1)), (0, (1.0, 1)), (0, (2.0, 1))]\npredicted class is: 0\n"
    }
   ],
   "source": [
    "import numpy as np\n",
    "from math import sqrt\n",
    "from pyspark import SparkContext, SparkConf\n",
    "conf = SparkConf().setAppName(\"KNN\")\n",
    "sc = SparkContext.getOrCreate()\n",
    "\n",
    "# getting the data in a (y, (x1,...xn)) format where y is the class label \n",
    "# and x1,...,xn are the predictive attribute values\n",
    "# mydata = sc.textFile().split().map(lambda x: (x[0], (x[1:])))\n",
    "\n",
    "# example of mydata\n",
    "mydata = ((0,(2,1)), (1,(4,5)), (0,(1,3)), (0,(-2,1)), (1,(5,3)), (0,(1,1)), (1, (2,2.5)), (1, (3,5)))\n",
    "# we use parallelize to partition the tuple so spark can work on it in parallel\n",
    "data_rdd = sc.parallelize(mydata)\n",
    "\n",
    "def getDistance(x1, x2):\n",
    "  \"\"\"\n",
    "  calculates the distance between two points\n",
    "  \"\"\"\n",
    "  n = len(x1)\n",
    "  distance = 0.0\n",
    "  for i in range(n):\n",
    "    distance += (x1[i] - x2[i])**2\n",
    "  return sqrt(distance)\n",
    "\n",
    "\n",
    "# (k, (x1,...,xn)) where k is the number of nearest neighbors\n",
    "# and (x1,...,xn) is the point of interest, in this case it have 2 attributes\n",
    "k = 3\n",
    "parameters = (3, (2,3))\n",
    "# Broadcast the parameters to all nodes \n",
    "bc = sc.broadcast(parameters)\n",
    "\n",
    "# map the data to (class, (distance, 1)) => sort it from smallest to largest\n",
    "# => and take the ones with the k shortest \"smallest\" distances\n",
    "kNeighbors = data_rdd.map(lambda x: (x[0], ((getDistance(x[1], bc.value[1]), 1)))) \\\n",
    "                     .sortBy(lambda k: k[1][0], ascending=True) \\\n",
    "                     .take(bc.value[0])\n",
    "kNeighbors = sc.parallelize(kNeighbors)\n",
    "print(kNeighbors.collect())\n",
    "\n",
    "# map to (class, 1) => sum the counts => sort from largest to smallest this time\n",
    "# => and take the largset one\n",
    "pred = kNeighbors.map(lambda x: (x[0], x[1][1])) \\\n",
    "                 .reduceByKey(lambda a,b: a+b) \\\n",
    "                 .sortBy(lambda x:x[1], ascending=False) \\\n",
    "                 .take(1)\n",
    "\n",
    "print(f\"predicted class is: {pred[0][0]}\")"
   ]
  },
  {
   "cell_type": "code",
   "execution_count": 40,
   "metadata": {},
   "outputs": [
    {
     "output_type": "stream",
     "name": "stdout",
     "text": "((0, (2, 1)), (1, (4, 5)), (0, (1, 3)), (0, (-2, 1)), (1, (5, 3)), (0, (1, 1)), (1, (2, 2.5)), (1, (3, 5)))\n[(((0, (2, 1)), (1, (4, 5))), 0), (((0, (1, 3)), (0, (-2, 1))), 2), (((1, (5, 3)), (0, (1, 1))), 4), (((1, (2, 2.5)), (1, (3, 5))), 6)]\n[(0, (2, 1)), (1, (4, 5)), (0, (1, 3)), (0, (-2, 1)), (1, (5, 3)), (0, (1, 1))]\n[(1, (2, 2.5)), (1, (3, 5))]\n"
    }
   ],
   "source": [
    "# number of folds\n",
    "K = 3\n",
    "fold_size = int(len(mydata) / K)\n",
    "\n",
    "CVdata = tuple((mydata[k:k + fold_size],k) for k in range(0, len(mydata), fold_size))\n",
    "CVdata = sc.parallelize(CVdata)\n",
    "\n",
    "error = sc.emptyRDD()\n",
    "p = (2,3)\n",
    "for i in range(0, len(mydata), fold_size):\n",
    "    train = CVdata.filter(lambda x: x[1] != i).flatMap(lambda x: x[0])\n",
    "    test  = CVdata.filter(lambda x: x[1] == i).flatMap(lambda x: x[0])\n",
    "    testError = test.foreach(lambda x: (x[1][0] - LR(p,i))**2, 1)\n",
    "    testError = sc.parallelize(testError).reduce(lambda a,b: (a[0]+b[0], a[1]+b[1]))\n",
    "    error[i] = x[0]/x[1]\n",
    "\n",
    "MSE = mean(error)\n",
    "\n",
    "print(f\"Average Test Error: {MSE}\")"
   ]
  }
 ],
 "metadata": {
  "language_info": {
   "codemirror_mode": {
    "name": "ipython",
    "version": 3
   },
   "file_extension": ".py",
   "mimetype": "text/x-python",
   "name": "python",
   "nbconvert_exporter": "python",
   "pygments_lexer": "ipython3",
   "version": "3.7.7-final"
  },
  "orig_nbformat": 2,
  "kernelspec": {
   "name": "python3",
   "display_name": "Python 3"
  }
 },
 "nbformat": 4,
 "nbformat_minor": 2
}