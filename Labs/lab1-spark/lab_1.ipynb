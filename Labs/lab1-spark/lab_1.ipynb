{
 "cells": [
  {
   "cell_type": "code",
   "execution_count": 15,
   "metadata": {
    "tags": []
   },
   "outputs": [
    {
     "output_type": "stream",
     "name": "stdout",
     "text": "[['102170', '2013-11-01', '06:00:00', '6.8', 'G'], ['102170', '2013-11-01', '18:00:00', '3.8', 'G'], ['102170', '2013-11-02', '06:00:00', '5.8', 'G'], ['102170', '2013-11-02', '18:00:00', '-1.1', 'G'], ['102170', '2013-11-03', '06:00:00', '-0.2', 'G'], ['102170', '2013-11-03', '18:00:00', '5.6', 'G'], ['102170', '2013-11-04', '06:00:00', '6.5', 'G'], ['102170', '2013-11-04', '18:00:00', '5.1', 'G'], ['102170', '2013-11-05', '06:00:00', '4.2', 'G'], ['102170', '2013-11-05', '18:00:00', '3.2', 'G']]\n"
    },
    {
     "output_type": "stream",
     "text": "objects}\n       42    0.001    0.000    0.053    0.001 java_gateway.py:1178(send_command)\n    308/1    0.001    0.000    0.002    0.002 pickle.py:533(save)\n       42    0.000    0.000    0.051    0.001 {method 'readline' of '_io.BufferedReader' objects}\n       17    0.000    0.000    0.000    0.000 java_gateway.py:1317(__init__)\n       42    0.000    0.000    0.054    0.001 java_gateway.py:1010(send_command)\n      105    0.000    0.000    0.000    0.000 inspect.py:1553(_shadowed_dict)\n      106    0.000    0.000    0.000    0.000 protocol.py:214(smart_decode)\n       46    0.000    0.000    0.051    0.001 socket.py:655(readinto)\n      142    0.000    0.000    0.000    0.000 pickle.py:489(memoize)\n      7/4    0.000    0.000    0.006    0.002 java_gateway.py:1551(__call__)\n      181    0.000    0.000    0.000    0.000 inspect.py:1525(_static_getmro)\n      516    0.000    0.000    0.000    0.000 {built-in method builtins.isinstance}\n    86/85    0.000    0.000    0.000    0.000 {method 'format' of 'str' objects}\n    17/16    0.000    0.000    0.043    0.003 java_gateway.py:1295(__call__)\n     25/4    0.000    0.000    0.002    0.000 pickle.py:975(_batch_setitems)\n       28    0.000    0.000    0.001    0.000 protocol.py:305(get_return_value)\n      7/4    0.000    0.000    0.002    0.001 java_gateway.py:1533(_get_args)\n      500    0.000    0.000    0.000    0.000 pickle.py:241(write)\n      309    0.000    0.000    0.000    0.000 pickle.py:217(commit_frame)\n       38    0.000    0.000    0.001    0.000 inspect.py:1567(getattr_static)\n       56    0.000    0.000    0.000    0.000 pickle.py:848(save_str)\n        1    0.000    0.000    0.061    0.061 {built-in method builtins.exec}\n       27    0.000    0.000    0.000    0.000 protocol.py:263(get_command_part)\n     37/1    0.000    0.000    0.002    0.002 pickle.py:871(save_tuple)\n       17    0.000    0.000    0.000    0.000 finalizer.py:35(add_finalizer)\n        1    0.000    0.000    0.000    0.000 {method 'connect' of '_socket.socket' objects}\n       38    0.000    0.000    0.000    0.000 inspect.py:1528(_check_instance)\n    17/16    0.000    0.000    0.001    0.000 java_gateway.py:1240(_get_args)\n    17/16    0.000    0.000    0.001    0.000 java_gateway.py:1258(_build_args)\n      9/7    0.000    0.000    0.001    0.000 pickle.py:619(save_reduce)\n  384/380    0.000    0.000    0.000    0.000 {built-in method builtins.len}\n        9    0.000    0.000    0.000    0.000 java_gateway.py:1456(__init__)\n       42    0.000    0.000    0.000    0.000 protocol.py:380(is_fatal_error)\n       84    0.000    0.000    0.000    0.000 __init__.py:1677(isEnabledFor)\n       25    0.000    0.000    0.000    0.000 java_gateway.py:1360(__getattr__)\n       84    0.000    0.000    0.000    0.000 __init__.py:1412(debug)\n      582    0.000    0.000    0.000    0.000 {method 'get' of 'dict' objects}\n       42    0.000    0.000    0.000    0.000 java_gateway.py:988(_give_back_connection)\n       38    0.000    0.000    0.000    0.000 inspect.py:1546(_is_type)\n       74    0.000    0.000    0.000    0.000 {method 'startswith' of 'str' objects}\n       38    0.000    0.000    0.001    0.000 compat.py:113(hasattr2)\n        5    0.000    0.000    0.007    0.001 java_gateway.py:1688(__getattr__)\n      5/1    0.000    0.000    0.002    0.002 cloudpickle.py:674(save_function_tuple)\n        1    0.000    0.000    0.045    0.045 context.py:1115(runJob)\n       48    0.000    0.000    0.000    0.000 socket.py:694(readable)\n        1    0.000    0.000    0.014    0.014 rdd.py:2616(_jrdd)\n       38    0.000    0.000    0.000    0.000 inspect.py:1537(_check_class)\n       28    0.000    0.000    0.000    0.000 protocol.py:373(is_error)\n      290    0.000    0.000    0.000    0.000 {built-in method builtins.getattr}\n       25    0.000    0.000    0.000    0.000 java_gateway.py:1221(__init__)\n        1    0.000    0.000    0.061    0.061 <string>:1(<module>)\n       18    0.000    0.000    0.000    0.000 java_collections.py:501(can_convert)\n        1    0.000    0.000    0.010    0.010 rdd.py:2513(_wrap_function)\n       42    0.000    0.000    0.000    0.000 java_gateway.py:973(_get_connection)\n     25/4    0.000    0.000    0.002    0.000 pickle.py:962(save_dict)\n      502    0.000    0.000    0.000    0.000 {method 'write' of '_io.BytesIO' objects}\n       87    0.000    0.000    0.000    0.000 pickle.py:524(get)\n        1    0.000    0.000    0.000    0.000 socket.py:732(close)\n        1    0.000    0.000    0.000    0.000 socket.py:219(__init__)\n      632    0.000    0.000    0.000    0.000 {built-in method builtins.id}\n        1    0.000    0.000    0.000    0.000 socket.py:301(makefile)\n       46    0.000    0.000    0.000    0.000 {method '_checkReadable' of '_io._IOBase' objects}\n        8    0.000    0.000    0.000    0.000 pickle.py:1053(save_global)\n      101    0.000    0.000    0.000    0.000 {method 'encode' of 'str' objects}\n       19    0.000    0.000    0.000    0.000 {built-in method _abc._abc_instancecheck}\n        6    0.000    0.000    0.000    0.000 serializers.py:592(read_int)\n       11    0.000    0.000    0.000    0.000 {method 'read' of '_io.BufferedRWPair' objects}\n        7    0.000    0.000    0.002    0.000 java_gateway.py:638(_garbage_collect_object)\n        1    0.000    0.000    0.000    0.000 socket.py:242(__repr__)\n       11    0.000    0.000    0.000    0.000 java_gateway.py:2525(<lambda>)\n        1    0.000    0.000    0.001    0.001 java_collections.py:519(convert)\n        1    0.000    0.000    0.001    0.001 java_gateway.py:177(local_connect_and_auth)\n       10    0.000    0.000    0.000    0.000 pickle.py:787(save_bytes)\n        1    0.000    0.000    0.000    0.000 rdd.py:255(__init__)\n      9/1    0.000    0.000    0.002    0.002 cloudpickle.py:420(save_function)\n        1    0.000    0.000    0.000    0.000 {method 'send' of '_socket.socket' objects}\n       10    0.000    0.000    0.000    0.000 protocol.py:248(is_python_proxy)\n      201    0.000    0.000    0.000    0.000 {built-in method _struct.pack}\n      310    0.000    0.000    0.000    0.000 {method 'tell' of '_io.BytesIO' objects}\n        3    0.000    0.000    0.000    0.000 socket.py:342(send)\n        1    0.000    0.000    0.000    0.000 {built-in method _socket.getaddrinfo}\n        2    0.000    0.000    0.001    0.001 conf.py:123(set)\n        7    0.000    0.000    0.002    0.000 java_gateway.py:956(garbage_collect_object)\n        5    0.000    0.000    0.000    0.000 cloudpickle.py:764(extract_func_data)\n        4    0.000    0.000    0.000    0.000 {built-in method _pickle.loads}\n        7    0.000    0.000    0.000    0.000 {method 'rpartition' of 'str' objects}\n       45    0.000    0.000    0.000    0.000 pickle.py:749(save_long)\n        2    0.000    0.000    0.000    0.000 protocol.py:205(<genexpr>)\n        3    0.000    0.000    0.001    0.000 java_collections.py:507(convert)\n       15    0.000    0.000    0.000    0.000 types.py:1633(can_convert)\n       19    0.000    0.000    0.001    0.000 java_collections.py:516(can_convert)\n        7    0.000    0.000    0.000    0.000 finalizer.py:45(remove_finalizer)\n        8    0.000    0.000    0.000    0.000 {built-in method builtins.__import__}\n        1    0.000    0.000    0.004    0.004 rdd.py:2500(_prepare_for_python_RDD)\n      308    0.000    0.000    0.000    0.000 pickle.py:603(persistent_id)\n    27/25    0.000    0.000    0.000    0.000 {method 'join' of 'str' objects}\n        1    0.000    0.000    0.047    0.047 rdd.py:1392(take)\n      8/7    0.000    0.000    0.000    0.000 cloudpickle.py:823(save_global)\n        1    0.000    0.000    0.000    0.000 java_gateway.py:164(_do_server_auth)\n      142    0.000    0.000    0.000    0.000 pickle.py:512(put)\n       27    0.000    0.000    0.000    0.000 java_gateway.py:632(is_magic_member)\n       17    0.000    0.000    0.000    0.000 java_gateway.py:1266(<listcomp>)\n        1    0.000    0.000    0.002    0.002 serializers.py:466(dumps)\n       47    0.000    0.000    0.000    0.000 {method '_checkClosed' of '_io._IOBase' objects}\n        2    0.000    0.000    0.001    0.000 java_collections.py:176(__compute_item)\n        9    0.000    0.000    0.000    0.000 protocol.py:177(escape_new_line)\n        1    0.000    0.000    0.000    0.000 protocol.py:167(<lambda>)\n        2    0.000    0.000    0.000    0.000 rdd.py:2585(__init__)\n        5    0.000    0.000    0.001    0.000 cloudpickle.py:388(save_codeobject)\n        1    0.000    0.000    0.000    0.000 {built-in method builtins.print}\n       19    0.000    0.000    0.000    0.000 abc.py:96(__instancecheck__)\n        1    0.000    0.000    0.011    0.011 context.py:591(textFile)\n       19    0.000    0.000    0.000    0.000 java_collections.py:489(can_convert)\n        4    0.000    0.000    0.000    0.000 java_collections.py:261(__init__)\n        6    0.000    0.000    0.000    0.000 protocol.py:164(<lambda>)\n       33    0.000    0.000    0.000    0.000 compat.py:95(isbytearray)\n       45    0.000    0.000    0.000    0.000 {method 'append' of 'collections.deque' objects}\n        4    0.000    0.000    0.000    0.000 enum.py:283(__call__)\n        4    0.000    0.000    0.000    0.000 java_collections.py:535(<lambda>)\n        1    0.000    0.000    0.000    0.000 os.py:670(__getitem__)\n        2    0.000    0.000    0.000    0.000 java_gateway.py:1506(__getattr__)\n        2    0.000    0.000    0.000    0.000 java_collections.py:243(__len__)\n        7    0.000    0.000    0.000    0.000 java_gateway.py:1560(<listcomp>)\n        1    0.000    0.000    0.000    0.000 socket.py:901(getaddrinfo)\n        8    0.000    0.000    0.000    0.000 pickle.py:322(_getattribute)\n        1    0.000    0.000    0.002    0.002 rdd.py:2613(getNumPartitions)\n        1    0.000    0.000    0.000    0.000 java_collections.py:81(__setitem__)\n        1    0.000    0.000    0.001    0.001 conf.py:97(__init__)\n       37    0.000    0.000    0.000    0.000 {built-in method builtins.hasattr}\n        1    0.000    0.000    0.002    0.002 rdd.py:144(_create_local_socket)\n       42    0.000    0.000    0.000    0.000 {method 'strip' of 'str' objects}\n        1    0.000    0.000    0.000    0.000 serializers.py:555(loads)\n        3    0.000    0.000    0.000    0.000 iostream.py:197(schedule)\n      4/1    0.000    0.000    0.001    0.001 pickle.py:935(_batch_appends)\n        5    0.000    0.000    0.000    0.000 java_gateway.py:425(get_method)\n        1    0.000    0.000    0.000    0.000 socket.py:643(__init__)\n       15    0.000    0.000    0.000    0.000 types.py:1624(can_convert)\n        1    0.000    0.000    0.000    0.000 idna.py:147(encode)\n        1    0.000    0.000    0.000    0.000 serializers.py:599(write_int)\n        5    0.000    0.000    0.000    0.000 serializers.py:163(_read_with_length)\n        4    0.000    0.000    0.000    0.000 socket.py:97(_intenum_converter)\n       42    0.000    0.000    0.000    0.000 {method 'pop' of 'collections.deque' objects}\n        1    0.000    0.000    0.000    0.000 socket.py:678(write)\n       31    0.000    0.000    0.000    0.000 compat.py:92(ispython3bytestr)\n        2    0.000    0.000    0.000    0.000 iostream.py:386(write)\n        4    0.000    0.000    0.001    0.000 java_gateway.py:1345(_detach)\n        4    0.000    0.000    0.000    0.000 serializers.py:457(loads)\n        1    0.000    0.000    0.002    0.002 pickle.py:474(dump)\n        1    0.000    0.000    0.000    0.000 rdd.py:2493(_is_barrier)\n        5    0.000    0.000    0.000    0.000 cloudpickle.py:1050(is_tornado_coroutine)\n        1    0.000    0.000    0.000    0.000 context.py:422(defaultParallelism)\n        3    0.000    0.000    0.000    0.000 java_gateway.py:1340(<lambda>)\n        1    0.000    0.000    0.002    0.002 rdd.py:160(_load_from_socket)\n       30    0.000    0.000    0.000    0.000 {method 'append' of 'list' objects}\n        2    0.000    0.000    0.001    0.000 java_collections.py:196(__getitem__)\n        3    0.000    0.000    0.000    0.000 {method '__reduce_ex__' of 'object' objects}\n        1    0.000    0.000    0.000    0.000 pickle.py:407(__init__)\n       21    0.000    0.000    0.000    0.000 pickle.py:738(save_none)\n        1    0.000    0.000    0.002    0.002 cloudpickle.py:1084(dumps)\n      4/1    0.000    0.000    0.001    0.001 pickle.py:922(save_list)\n        5    0.000    0.000    0.000    0.000 serializers.py:144(load_stream)\n        1    0.000    0.000    0.000    0.000 serializers.py:225(load_stream)\n       29    0.000    0.000    0.000    0.000 {built-in method builtins.iter}\n        7    0.000    0.000    0.000    0.000 {method 'pop' of 'dict' objects}\n        4    0.000    0.000    0.000    0.000 enum.py:562(__new__)\n        5    0.000    0.000    0.000    0.000 cloudpickle.py:517(_save_subimports)\n        1    0.000    0.000    0.000    0.000 {method 'flush' of '_io.BufferedRWPair' objects}\n       17    0.000    0.000    0.000    0.000 pickle.py:335(whichmodule)\n        2    0.000    0.000    0.000    0.000 protocol.py:161(<lambda>)\n        1    0.000    0.000    0.000    0.000 _collections_abc.py:657(get)\n        1    0.000    0.000    0.000    0.000 {built-in method binascii.b2a_base64}\n        3    0.000    0.000    0.000    0.000 threading.py:1071(is_alive)\n        1    0.000    0.000    0.000    0.000 protocol.py:235(encode_bytearray)\n        2    0.000    0.000    0.000    0.000 rdd.py:428(mapPartitionsWithIndex)\n       11    0.000    0.000    0.000    0.000 {method 'split' of 'str' objects}\n        5    0.000    0.000    0.000    0.000 weakref.py:419(get)\n        1    0.000    0.000    0.000    0.000 serializers.py:610(write_with_length)\n        2    0.000    0.000    0.000    0.000 {method 'settimeout' of '_socket.socket' objects}\n       27    0.000    0.000    0.000    0.000 {method 'replace' of 'str' objects}\n        2    0.000    0.000    0.000    0.000 iostream.py:310(_is_master_process)\n        5    0.000    0.000    0.000    0.000 {built-in method _struct.unpack}\n        1    0.000    0.000    0.000    0.000 serializers.py:228(_load_stream_without_unbatching)\n        1    0.000    0.000    0.000    0.000 <frozen importlib._bootstrap>:1017(_handle_fromlist)\n        5    0.000    0.000    0.000    0.000 cloudpickle.py:739(extract_code_globals)\n        1    0.000    0.000    0.000    0.000 protocol.py:193(unescape_new_line)\n       14    0.000    0.000    0.000    0.000 java_gateway.py:1348(_get_object_id)\n        2    0.000    0.000    0.000    0.000 {method 'write' of '_io.BufferedRWPair' objects}\n        1    0.000    0.000    0.000    0.000 os.py:748(encode)\n        1    0.000    0.000    0.000    0.000 java_collections.py:74(__init__)\n        1    0.000    0.000    0.000    0.000 {method 'getsockname' of '_socket.socket' objects}\n        3    0.000    0.000    0.000    0.000 threading.py:1017(_wait_for_tstate_lock)\n        2    0.000    0.000    0.000    0.000 java_collections.py:165(__compute_index)\n        1    0.000    0.000    0.000    0.000 base64.py:51(b64encode)\n        1    0.000    0.000    0.000    0.000 broadcast.py:197(clear)\n        2    0.000    0.000    0.000    0.000 enum.py:619(__str__)\n        1    0.000    0.000    0.000    0.000 java_collections.py:532(<lambda>)\n        2    0.000    0.000    0.000    0.000 {built-in method builtins.min}\n       25    0.000    0.000    0.000    0.000 {method 'items' of 'dict' objects}\n        2    0.000    0.000    0.000    0.000 serializers.py:552(__init__)\n        1    0.000    0.000    0.000    0.000 socket.py:512(family)\n        1    0.000    0.000    0.000    0.000 compat.py:101(bytetostr)\n        1    0.000    0.000    0.000    0.000 java_collections.py:538(<lambda>)\n        1    0.000    0.000    0.000    0.000 context.py:362(getOrCreate)\n        1    0.000    0.000    0.000    0.000 pickle.py:212(end_framing)\n        3    0.000    0.000    0.000    0.000 {method 'acquire' of '_thread.lock' objects}\n        5    0.000    0.000    0.000    0.000 gen.py:248(is_coroutine_function)\n        1    0.000    0.000    0.002    0.002 cloudpickle.py:354(dump)\n        1    0.000    0.000    0.000    0.000 broadcast.py:190(__iter__)\n        2    0.000    0.000    0.000    0.000 {built-in method posix.getpid}\n        5    0.000    0.000    0.000    0.000 cloudpickle.py:233(islambda)\n        1    0.000    0.000    0.000    0.000 rdd.py:388(map)\n        1    0.000    0.000    0.000    0.000 cloudpickle.py:347(__init__)\n        1    0.000    0.000    0.001    0.001 conf.py:138(setMaster)\n        1    0.000    0.000    0.001    0.001 conf.py:143(setAppName)\n        1    0.000    0.000    0.000    0.000 protocol.py:162(<lambda>)\n        1    0.000    0.000    0.000    0.000 rdd.py:415(mapPartitions)\n        1    0.000    0.000    0.000    0.000 java_collections.py:162(__init__)\n        5    0.000    0.000    0.000    0.000 cloudpickle.py:1135(_get_cell_contents)\n        1    0.000    0.000    0.000    0.000 socket.py:486(_decref_socketios)\n        3    0.000    0.000    0.000    0.000 iostream.py:93(_event_pipe)\n        3    0.000    0.000    0.000    0.000 socket.py:701(writable)\n        1    0.000    0.000    0.000    0.000 <frozen importlib._bootstrap>:269(_module_repr)\n        1    0.000    0.000    0.000    0.000 {function SocketIO.close at 0x7f671ef7c430}\n        1    0.000    0.000    0.000    0.000 rdd.py:2508(<listcomp>)\n        1    0.000    0.000    0.000    0.000 {method 'decode' of 'bytes' objects}\n        1    0.000    0.000    0.000    0.000 serializers.py:135(__init__)\n        1    0.000    0.000    0.000    0.000 {method 'getbuffer' of '_io.BytesIO' objects}\n        5    0.000    0.000    0.000    0.000 {method 'setdefault' of 'dict' objects}\n        2    0.000    0.000    0.000    0.000 pickle.py:742(save_bool)\n        1    0.000    0.000    0.000    0.000 {method 'getpeername' of '_socket.socket' objects}\n        2    0.000    0.000    0.000    0.000 iostream.py:323(_schedule_flush)\n        1    0.000    0.000    0.000    0.000 base64.py:90(standard_b64encode)\n        1    0.000    0.000    0.000    0.000 {method 'split' of 'bytes' objects}\n        9    0.000    0.000    0.000    0.000 {built-in method builtins.callable}\n        1    0.000    0.000    0.000    0.000 rdd.py:287(context)\n        3    0.000    0.000    0.000    0.000 {built-in method builtins.issubclass}\n        1    0.000    0.000    0.000    0.000 {method '_checkWritable' of '_io._IOBase' objects}\n        1    0.000    0.000    0.000    0.000 pickle.py:209(start_framing)\n        1    0.000    0.000    0.000    0.000 {built-in method from_iterable}\n        3    0.000    0.000    0.000    0.000 threading.py:513(is_set)\n        5    0.000    0.000    0.000    0.000 {method 'values' of 'dict' objects}\n        1    0.000    0.000    0.000    0.000 rdd.py:2644(_is_pipelinable)\n        1    0.000    0.000    0.000    0.000 rdd.py:2647(_is_barrier)\n        1    0.000    0.000    0.000    0.000 socket.py:518(type)\n        1    0.000    0.000    0.000    0.000 pickle.py:205(__init__)\n        1    0.000    0.000    0.000    0.000 compat.py:89(isbytestr)\n        1    0.000    0.000    0.000    0.000 <frozen importlib._bootstrap>:716(module_repr)\n        2    0.000    0.000    0.000    0.000 {method 'lower' of 'str' objects}\n        1    0.000    0.000    0.000    0.000 protocol.py:160(<lambda>)\n        1    0.000    0.000    0.000    0.000 {method 'close' of '_io.BytesIO' objects}\n        1    0.000    0.000    0.000    0.000 {method 'keys' of 'dict' objects}\n        1    0.000    0.000    0.000    0.000 {method 'fileno' of '_socket.socket' objects}\n        1    0.000    0.000    0.000    0.000 {method 'disable' of '_lsprof.Profiler' objects}\n        1    0.000    0.000    0.000    0.000 {method 'clear' of 'set' objects}\n        1    0.000    0.000    0.000    0.000 cloudpickle.py:1043(inject_addons)\n        1    0.000    0.000    0.000    0.000 {method 'getvalue' of '_io.BytesIO' objects}"
    }
   ],
   "source": [
    "%%time\n",
    "%%prun\n",
    "from pyspark import SparkContext, SparkConf\n",
    "\n",
    "conf = SparkConf().setAppName(\"Lab_1\").setMaster(\"local[*]\")\n",
    "sc = SparkContext.getOrCreate()\n",
    "# sc.setLogLevel(\"Error\")\n",
    "\n",
    "# This path is to the file on hdfs\n",
    "temperature_file = sc.textFile(\"../Data/temperature-readings.csv\")\n",
    "# (station, year-month-day, time, temperature, quality)\n",
    "lines = temperature_file.map(lambda line: line.split(\";\"))\n",
    "\n",
    "print(lines.take(10))"
   ]
  },
  {
   "cell_type": "code",
   "execution_count": 16,
   "metadata": {
    "tags": []
   },
   "outputs": [
    {
     "output_type": "stream",
     "name": "stdout",
     "text": "[('1975', (-37.0, 36.1)), ('1992', (-36.1, 35.4)), ('1994', (-40.5, 34.7)), ('2014', (-42.5, 34.4)), ('2010', (-41.7, 34.4)), ('1989', (-38.2, 33.9)), ('1982', (-42.2, 33.8)), ('1968', (-42.0, 33.7)), ('1966', (-49.4, 33.5)), ('1983', (-38.2, 33.3))]\n"
    },
    {
     "output_type": "stream",
     "text": " 203    0.000    0.000    0.054    0.000 linecache.py:15(getline)\n      127    0.000    0.000    0.000    0.000 {built-in method _pickle.loads}\n      263    0.000    0.000    0.000    0.000 {method 'read' of '_io.BufferedRWPair' objects}\n      318    0.000    0.000    0.000    0.000 pickle.py:335(whichmodule)\n      171    0.000    0.000    0.000    0.000 protocol.py:373(is_error)\n       15    0.000    0.000    0.002    0.000 java_gateway.py:1506(__getattr__)\n      312    0.000    0.000    0.000    0.000 socket.py:694(readable)\n      195    0.000    0.000    0.000    0.000 traceback.py:275(__iter__)\n      110    0.000    0.000    0.001    0.000 compilerop.py:153(check_linecache_ipython)\n       66    0.000    0.000    0.004    0.000 java_gateway.py:956(garbage_collect_object)\n      128    0.000    0.000    0.000    0.000 {built-in method _abc._abc_instancecheck}\n      133    0.000    0.000    0.000    0.000 serializers.py:592(read_int)\n      685    0.000    0.000    0.000    0.000 {method 'items' of 'dict' objects}\n        3    0.000    0.000    0.000    0.000 socket.py:301(makefile)\n      203    0.000    0.000    0.000    0.000 linecache.py:147(lazycache)\n  189/169    0.000    0.000    0.000    0.000 {method 'join' of 'str' objects}\n      494    0.000    0.000    0.000    0.000 {method 'strip' of 'str' objects}\n      185    0.000    0.000    0.000    0.000 java_gateway.py:632(is_magic_member)\n        3    0.000    0.000    0.000    0.000 socket.py:242(__repr__)\n       66    0.000    0.000    0.000    0.000 finalizer.py:45(remove_finalizer)\n      128    0.000    0.000    0.002    0.000 java_collections.py:516(can_convert)\n        3    0.000    0.000    0.000    0.000 {built-in method _socket.getaddrinfo}\n      110    0.000    0.000    0.000    0.000 {method 'update' of 'dict' objects}\n      309    0.000    0.000    0.000    0.000 {method '_checkClosed' of '_io._IOBase' objects}\n      107    0.000    0.000    0.001    0.000 java_gateway.py:1266(<listcomp>)\n       38    0.000    0.000    0.000    0.000 {method '__reduce_ex__' of 'object' objects}\n        9    0.000    0.000    0.000    0.000 {built-in method binascii.b2a_base64}\n       59    0.000    0.000    0.000    0.000 protocol.py:177(escape_new_line)\n        3    0.000    0.000    0.001    0.000 java_gateway.py:177(local_connect_and_auth)\n      203    0.000    0.000    0.054    0.000 linecache.py:37(getlines)\n      155    0.000    0.000    0.000    0.000 cloudpickle.py:233(islambda)\n        3    0.000    0.000    0.000    0.000 socket.py:219(__init__)\n      100    0.000    0.000    0.000    0.000 types.py:1633(can_convert)\n      233    0.000    0.000    0.000    0.000 compat.py:95(isbytearray)\n       64    0.000    0.000    0.001    0.000 java_gateway.py:2525(<lambda>)\n        1    0.000    0.000   93.883   93.883 rdd.py:706(sortByKey)\n       52    0.000    0.000    0.001    0.000 java_gateway.py:1560(<listcomp>)\n        9    0.000    0.000    0.048    0.005 pickle.py:474(dump)\n      412    0.000    0.000    0.000    0.000 {method 'append' of 'list' objects}\n      130    0.000    0.000    0.001    0.000 serializers.py:144(load_stream)\n      203    0.000    0.000    0.000    0.000 traceback.py:243(__init__)\n      155    0.000    0.000    0.000    0.000 gen.py:248(is_coroutine_function)\n      128    0.000    0.000    0.000    0.000 abc.py:96(__instancecheck__)\n        9    0.000    0.000    0.000    0.000 pickle.py:407(__init__)\n      294    0.000    0.000    0.000    0.000 {method 'append' of 'collections.deque' objects}\n        9    0.000    0.000    0.004    0.000 java_collections.py:519(convert)\n      144    0.000    0.000    0.000    0.000 {method 'split' of 'str' objects}\n      186    0.000    0.000    0.000    0.000 cloudpickle.py:1135(_get_cell_contents)\n       19    0.000    0.000    0.003    0.000 java_collections.py:507(convert)\n      215    0.000    0.000    0.000    0.000 compat.py:92(ispython3bytestr)\n        1    0.000    0.000   95.212   95.212 <string>:5(<module>)\n        1    0.000    0.000    1.220    1.220 context.py:1115(runJob)\n        9    0.000    0.000    0.049    0.005 cloudpickle.py:1084(dumps)\n      128    0.000    0.000    0.000    0.000 java_collections.py:489(can_convert)\n        9    0.000    0.000    0.000    0.000 protocol.py:235(encode_bytearray)\n      291    0.000    0.000    0.000    0.000 {method 'pop' of 'collections.deque' objects}\n        5    0.000    0.000    0.001    0.000 traceback_utils.py:75(__exit__)\n      127    0.000    0.000    0.000    0.000 serializers.py:457(loads)\n        3    0.000    0.000    0.000    0.000 {method 'send' of '_socket.socket' objects}\n        5    0.000    0.000    0.057    0.011 traceback_utils.py:61(__init__)\n      155    0.000    0.000    0.000    0.000 {method 'setdefault' of 'dict' objects}\n       26    0.000    0.000    0.000    0.000 java_collections.py:261(__init__)\n       76    0.000    0.000    0.000    0.000 pickle.py:780(save_float)\n        5    0.000    0.000    0.056    0.011 traceback.py:200(extract_stack)\n        6    0.000    0.000    0.002    0.000 java_collections.py:176(__compute_item)\n      100    0.000    0.000    0.000    0.000 types.py:1624(can_convert)\n       12    0.000    0.000    0.000    0.000 enum.py:283(__call__)\n       35    0.000    0.000    0.000    0.000 java_gateway.py:425(get_method)\n        5    0.000    0.000    0.001    0.000 traceback_utils.py:70(__enter__)\n        7    0.000    0.000    0.000    0.000 rdd.py:128(_parse_memory)\n        3    0.000    0.000    0.000    0.000 socket.py:342(send)\n        9    0.000    0.000    0.002    0.000 java_collections.py:81(__setitem__)\n      203    0.000    0.000    0.000    0.000 {method 'add' of 'set' objects}\n       10    0.000    0.000    0.000    0.000 protocol.py:193(unescape_new_line)\n        3    0.000    0.000    0.000    0.000 java_gateway.py:164(_do_server_auth)\n       25    0.000    0.000    0.003    0.000 rdd.py:428(mapPartitionsWithIndex)\n       26    0.000    0.000    0.000    0.000 java_collections.py:535(<lambda>)\n        1    0.000    0.000    0.000    0.000 rdd.py:750(<listcomp>)\n        6    0.000    0.000    0.001    0.000 java_collections.py:243(__len__)\n       12    0.000    0.000    0.000    0.000 socket.py:97(_intenum_converter)\n        3    0.000    0.000    0.003    0.001 rdd.py:144(_create_local_socket)\n        5    0.000    0.000    0.001    0.000 rdd.py:255(__init__)\n        1    0.000    0.000    1.221    1.221 rdd.py:1392(take)\n        1    0.000    0.000    0.000    0.000 {method 'readlines' of '_io._IOBase' objects}\n        1    0.000    0.000    0.000    0.000 {built-in method builtins.sorted}\n       21    0.000    0.000    0.000    0.000 protocol.py:164(<lambda>)\n        1    0.000    0.000    0.000    0.000 {built-in method builtins.print}\n        7    0.000    0.000    0.002    0.000 conf.py:174(get)\n        9    0.000    0.000    0.000    0.000 java_collections.py:74(__init__)\n       71    0.000    0.000    0.000    0.000 {method 'pop' of 'dict' objects}\n        5    0.000    0.000    0.001    0.000 rdd.py:2493(_is_barrier)\n        9    0.000    0.000    0.000    0.000 compat.py:101(bytetostr)\n      104    0.000    0.000    0.000    0.000 {method 'rpartition' of 'str' objects}\n        5    0.000    0.000    0.001    0.000 rdd.py:2613(getNumPartitions)\n        5    0.000    0.000    0.000    0.000 posixpath.py:150(dirname)\n      130    0.000    0.000    0.000    0.000 {built-in method _struct.unpack}\n       11    0.000    0.000    0.054    0.005 linecache.py:82(updatecache)\n      177    0.000    0.000    0.000    0.000 {method 'replace' of 'str' objects}\n        1    0.000    0.000    0.000    0.000 {built-in method _functools.reduce}\n        2    0.000    0.000    0.081    0.040 rdd.py:1896(combineByKey)\n      155    0.000    0.000    0.000    0.000 {method 'values' of 'dict' objects}\n        3    0.000    0.000    0.000    0.000 os.py:670(__getitem__)\n        9    0.000    0.000    0.048    0.005 cloudpickle.py:354(dump)\n        9    0.000    0.000    0.000    0.000 cloudpickle.py:347(__init__)\n        3    0.000    0.000    0.000    0.000 idna.py:147(encode)\n        3    0.000    0.000    0.000    0.000 socket.py:901(getaddrinfo)\n       12    0.000    0.000    0.000    0.000 enum.py:562(__new__)\n       90    0.000    0.000    0.000    0.000 java_gateway.py:1348(_get_object_id)\n        9    0.000    0.000    0.000    0.000 pickle.py:212(end_framing)\n        3    0.000    0.000    0.000    0.000 socket.py:643(__init__)\n       20    0.000    0.000    0.000    0.000 protocol.py:205(<genexpr>)\n       28    0.000    0.000    0.002    0.000 java_gateway.py:1345(_detach)\n        7    0.000    0.000    0.002    0.000 rdd.py:1994(_memory_limit)\n       38    0.000    0.000    0.002    0.000 java_gateway.py:1340(<lambda>)\n      161    0.000    0.000    0.000    0.000 {built-in method builtins.callable}\n        1    0.000    0.000    0.013    0.013 rdd.py:2178(coalesce)\n        1    0.000    0.000    0.054    0.054 tokenize.py:388(open)\n        3    0.000    0.000    0.000    0.000 {method 'getsockname' of '_socket.socket' objects}\n        9    0.000    0.000    0.000    0.000 broadcast.py:190(__iter__)\n        3    0.000    0.000    0.000    0.000 serializers.py:555(loads)\n       64    0.000    0.000    0.000    0.000 util.py:105(wrapper)\n       13    0.000    0.000    0.000    0.000 serializers.py:135(__init__)\n        6    0.000    0.000    0.000    0.000 enum.py:619(__str__)\n        9    0.000    0.000    0.000    0.000 protocol.py:162(<lambda>)\n        6    0.000    0.000    0.002    0.000 java_collections.py:196(__getitem__)\n        3    0.000    0.000    0.000    0.000 socket.py:512(family)\n        4    0.000    0.000    0.001    0.000 conf.py:198(contains)\n        3    0.000    0.000    0.003    0.001 rdd.py:160(_load_from_socket)\n        9    0.000    0.000    0.000    0.000 java_collections.py:532(<lambda>)\n        2    0.000    0.000    0.001    0.001 rdd.py:456(getNumPartitions)\n        1    0.000    0.000    0.000    0.000 {built-in method io.open}\n        3    0.000    0.000    0.000    0.000 socket.py:678(write)\n        9    0.000    0.000    0.000    0.000 base64.py:51(b64encode)\n        3    0.000    0.000    0.000    0.000 serializers.py:225(load_stream)\n        9    0.000    0.000    0.000    0.000 rdd.py:2508(<listcomp>)\n       10    0.000    0.000    0.000    0.000 <frozen importlib._bootstrap>:269(_module_repr)\n        1    0.000    0.000    0.054    0.054 tokenize.py:295(detect_encoding)\n        1    0.000    0.000   93.107   93.107 rdd.py:972(fold)\n       19    0.000    0.000    0.000    0.000 pickle.py:742(save_bool)\n        3    0.000    0.000    0.000    0.000 serializers.py:599(write_int)\n       10    0.000    0.000    0.000    0.000 protocol.py:167(<lambda>)\n       12    0.000    0.000    0.003    0.000 rdd.py:415(mapPartitions)\n       41    0.000    0.000    0.000    0.000 {built-in method builtins.issubclass}\n       10    0.000    0.000    0.000    0.000 protocol.py:161(<lambda>)\n        3    0.000    0.000    0.000    0.000 _collections_abc.py:657(get)\n        1    0.000    0.000    0.014    0.014 rdd.py:624(union)\n        7    0.000    0.000    0.000    0.000 dis.py:311(_get_instructions_bytes)\n        3    0.000    0.000    0.000    0.000 iostream.py:197(schedule)\n        4    0.000    0.000    0.002    0.001 rdd.py:2335(_defaultReducePartitions)\n        9    0.000    0.000    0.000    0.000 {method 'getbuffer' of '_io.BytesIO' objects}\n        3    0.000    0.000    0.000    0.000 {method 'flush' of '_io.BufferedRWPair' objects}\n        9    0.000    0.000    0.000    0.000 base64.py:90(standard_b64encode)\n        2    0.000    0.000    0.000    0.000 iostream.py:386(write)\n        9    0.000    0.000    0.000    0.000 broadcast.py:197(clear)\n       64    0.000    0.000    0.000    0.000 {built-in method _operator.add}\n        3    0.000    0.000    0.000    0.000 serializers.py:228(_load_stream_without_unbatching)\n        9    0.000    0.000    0.000    0.000 pickle.py:209(start_framing)\n        6    0.000    0.000    0.000    0.000 {method 'write' of '_io.BufferedRWPair' objects}\n        6    0.000    0.000    0.000    0.000 {method 'settimeout' of '_socket.socket' objects}\n       20    0.000    0.000    0.000    0.000 rdd.py:2644(_is_pipelinable)\n       10    0.000    0.000    0.000    0.000 <frozen importlib._bootstrap>:716(module_repr)\n        3    0.000    0.000    0.000    0.000 serializers.py:610(write_with_length)\n        3    0.000    0.000    0.000    0.000 socket.py:486(_decref_socketios)\n        3    0.000    0.000    0.000    0.000 java_collections.py:538(<lambda>)\n        1    0.000    0.000    0.000    0.000 rdd.py:1998(groupByKey)\n        3    0.000    0.000    0.000    0.000 java_collections.py:162(__init__)\n        8    0.000    0.000    0.000    0.000 rdd.py:388(map)\n        1    0.000    0.000   93.107   93.107 rdd.py:1125(sum)\n       65    0.000    0.000    0.000    0.000 rdd.py:706(<lambda>)\n        3    0.000    0.000    0.000    0.000 os.py:748(encode)\n        1    0.000    0.000   93.883   93.883 rdd.py:762(sortBy)\n        3    0.000    0.000    0.000    0.000 {method 'getpeername' of '_socket.socket' objects}\n       21    0.000    0.000    0.000    0.000 {method 'endswith' of 'str' objects}\n        3    0.000    0.000    0.000    0.000 shuffle.py:97(__init__)\n       11    0.000    0.000    0.000    0.000 {built-in method __new__ of type object at 0x560491c84ac0}\n        9    0.000    0.000    0.000    0.000 pickle.py:205(__init__)\n       14    0.000    0.000    0.000    0.000 dis.py:419(_unpack_opargs)\n        2    0.000    0.000    0.000    0.000 iostream.py:310(_is_master_process)\n        6    0.000    0.000    0.001    0.000 java_collections.py:165(__compute_index)\n        1    0.000    0.000    0.015    0.015 join.py:38(_do_python_join)\n        2    0.000    0.000    0.081    0.040 rdd.py:1695(reduceByKey)\n       20    0.000    0.000    0.000    0.000 rdd.py:2647(_is_barrier)\n        3    0.000    0.000    0.000    0.000 threading.py:1071(is_alive)\n        1    0.000    0.000    0.000    0.000 rdd.py:489(sample)\n        9    0.000    0.000    0.000    0.000 compat.py:89(isbytestr)\n        3    0.000    0.000    0.000    0.000 socket.py:518(type)\n       24    0.000    0.000    0.000    0.000 {method 'lower' of 'str' objects}\n        3    0.000    0.000    0.000    0.000 codecs.py:319(decode)\n        5    0.000    0.000    0.000    0.000 cloudpickle.py:816(save_builtin_function)\n        1    0.000    0.000    0.013    0.013 rdd.py:2159(repartition)\n        5    0.000    0.000    0.000    0.000 {method 'rfind' of 'str' objects}\n        5    0.000    0.000    0.000    0.000 posixpath.py:41(_get_sep)\n        1    0.000    0.000    0.000    0.000 cloudpickle.py:299(_walk_global_ops)\n        3    0.000    0.000    0.000    0.000 {method 'match' of 're.Pattern' objects}\n        2    0.000    0.000    0.000    0.000 tokenize.py:325(find_cookie)\n        3    0.000    0.000    0.000    0.000 threading.py:1017(_wait_for_tstate_lock)\n        1    0.000    0.000   93.107   93.107 rdd.py:1134(count)\n        5    0.000    0.000    0.000    0.000 rdd.py:239(__eq__)\n        1    0.000    0.000    0.000    0.000 dis.py:261(get_instructions)\n        3    0.000    0.000    0.000    0.000 {function SocketIO.close at 0x7f671ef7c430}\n        9    0.000    0.000    0.000    0.000 socket.py:701(writable)\n        5    0.000    0.000    0.000    0.000 {built-in method sys._getframe}\n        1    0.000    0.000    0.015    0.015 join.py:44(python_join)\n        3    0.000    0.000    0.000    0.000 serializers.py:552(__init__)\n        3    0.000    0.000    0.000    0.000 rdd.py:2057(mapValues)\n        3    0.000    0.000    0.000    0.000 {built-in method builtins.min}\n        1    0.000    0.000    0.000    0.000 rdd.py:664(_reserialize)\n        5    0.000    0.000    0.000    0.000 {method 'decode' of 'bytes' objects}\n        1    0.000    0.000    0.001    0.001 cloudpickle.py:857(save_instancemethod)\n        3    0.000    0.000    0.000    0.000 {built-in method _codecs.utf_8_decode}\n        9    0.000    0.000    0.000    0.000 {method 'getvalue' of '_io.BytesIO' objects}\n        4    0.000    0.000    0.000    0.000 serializers.py:198(__init__)\n        1    0.000    0.000    0.000    0.000 rddsampler.py:66(__init__)\n        1    0.000    0.000    0.000    0.000 dis.py:430(findlabels)\n        4    0.000    0.000    0.000    0.000 rdd.py:235(__init__)\n        9    0.000    0.000    0.000    0.000 {method 'clear' of 'set' objects}\n        9    0.000    0.000    0.000    0.000 protocol.py:160(<lambda>)\n        1    0.000    0.000    0.000    0.000 rddsampler.py:25(__init__)\n        3    0.000    0.000    0.000    0.000 {method 'acquire' of '_thread.lock' objects}\n        2    0.000    0.000    0.054    0.027 tokenize.py:319(read_or_stop)\n        2    0.000    0.000    0.000    0.000 dis.py:449(findlinestarts)\n        5    0.000    0.000    0.000    0.000 {method 'rstrip' of 'str' objects}\n        1    0.000    0.000    0.000    0.000 cloudpickle.py:376(save_module)\n       10    0.000    0.000    0.000    0.000 util.py:100(fail_on_stopiteration)\n        6    0.000    0.000    0.000    0.000 rdd.py:287(context)\n        3    0.000    0.000    0.000    0.000 {method 'split' of 'bytes' objects}\n        9    0.000    0.000    0.000    0.000 cloudpickle.py:1043(inject_addons)\n        2    0.000    0.000    0.000    0.000 {built-in method posix.getpid}\n        2    0.000    0.000    0.000    0.000 serializers.py:115(__eq__)\n        9    0.000    0.000    0.000    0.000 {method 'keys' of 'dict' objects}\n        3    0.000    0.000    0.000    0.000 iostream.py:93(_event_pipe)\n        2    0.000    0.000    0.000    0.000 dis.py:283(_get_const_info)\n        6    0.000    0.000    0.000    0.000 <string>:1(__new__)\n        3    0.000    0.000    0.000    0.000 {built-in method from_iterable}\n        3    0.000    0.000    0.000    0.000 {method '_checkWritable' of '_io._IOBase' objects}\n        2    0.000    0.000    0.000    0.000 iostream.py:323(_schedule_flush)\n        1    0.000    0.000    0.000    0.000 codecs.py:309(__init__)\n        1    0.000    0.000    0.000    0.000 rdd.py:1685(values)\n        9    0.000    0.000    0.000    0.000 {method 'close' of '_io.BytesIO' objects}\n        1    0.000    0.000    0.000    0.000 {built-in method builtins.max}\n        5    0.000    0.000    0.000    0.000 {built-in method posix.fspath}\n        1    0.000    0.000    0.000    0.000 {method 'startswith' of 'bytes' objects}\n        1    0.000    0.000    0.000    0.000 dis.py:128(_get_code_object)\n        1    0.000    0.000    0.000    0.000 rdd.py:466(filter)\n        5    0.000    0.000    0.000    0.000 {method 'reverse' of 'list' objects}\n        1    0.000    0.000    0.000    0.000 {method 'seek' of '_io.BufferedReader' objects}\n        1    0.000    0.000    0.015    0.015 rdd.py:1751(join)\n        3    0.000    0.000    0.000    0.000 threading.py:513(is_set)\n        1    0.000    0.000    0.000    0.000 rdd.py:2043(flatMapValues)\n        1    0.000    0.000    0.000    0.000 weakref.py:395(__setitem__)\n        1    0.000    0.000    0.000    0.000 cloudpickle.py:752(<setcomp>)\n        1    0.000    0.000    0.000    0.000 serializers.py:118(__ne__)\n        3    0.000    0.000    0.000    0.000 {method 'fileno' of '_socket.socket' objects}\n        2    0.000    0.000    0.000    0.000 {built-in method builtins.repr}\n        1    0.000    0.000    0.000    0.000 {method 'disable' of '_lsprof.Profiler' objects}\n        1    0.000    0.000    0.000    0.000 rdd.py:2148(keyBy)\n        1    0.000    0.000    0.000    0.000 codecs.py:260(__init__)\n        1    0.000    0.000    0.000    0.000 rdd.py:400(flatMap)\n        1    0.000    0.000    0.000    0.000 cloudpickle.py:1323(_is_dynamic)\n        1    0.000    0.000    0.000    0.000 dis.py:295(_get_name_info)"
    }
   ],
   "source": [
    "%%time\n",
    "%%prun\n",
    "## Q1\n",
    "# lowest and highest temperatures measured each year for the period 1950-2014, descending.\n",
    "\n",
    "# (key, value) = (year,temperature)\n",
    "year_temp = lines.map(lambda x: (x[1][0:4], float(x[3])))\n",
    "# Readings during 1950-2014\n",
    "filtered_temp = year_temp.filter(lambda x: int(x[0])>=1950 and int(x[0])<=2014)\n",
    "\n",
    "# take min => take max => join\n",
    "min_temp = filtered_temp.reduceByKey(min)\n",
    "max_temp = filtered_temp.reduceByKey(max)\n",
    "min_max  = min_temp.join(max_temp)\n",
    "\n",
    "# sort => combine in 1 file\n",
    "min_max = min_max.sortBy(ascending = False, keyfunc=lambda k: k[1][1])\n",
    "min_max = min_max.repartition(1)\n",
    "\n",
    "# (year, (min, max)) \n",
    "print(min_max.take(10))\n",
    "# min_max.saveAsTextFile(\"A1\")"
   ]
  },
  {
   "cell_type": "code",
   "execution_count": 3,
   "metadata": {},
   "outputs": [
    {
     "name": "stdout",
     "output_type": "stream",
     "text": [
      "[('2014-07', 62), ('2014-08', 56), ('2014-06', 54), ('2014-05', 31), ('2014-09', 25), ('2014-10', 17), ('2014-04', 9), ('2013-11', 1), ('2014-11', 1)]\n"
     ]
    }
   ],
   "source": [
    "%%time\n",
    "## Q2_1\n",
    "# Monthly readings higher than 10 degrees\n",
    "\n",
    "# (year-month, (station, temperature))\n",
    "monthly_temp = lines.map(lambda x: (x[1][0:7], (x[0], float(x[3]))))\n",
    "# Readings during 1950-2014 & > 10\n",
    "filtered_temp = monthly_temp.filter(lambda x: int(x[0][0:4]) >= 1950 and int(x[0][0:4]) <=2014 and float(x[1][1]) > 10)\n",
    "\n",
    "# ((year-month), 1) => ((year-month), count) => combine => sort\n",
    "counter = filtered_temp.map(lambda x: (x[0], 1))\n",
    "monthly_count = counter.reduceByKey(lambda a,b: a+b)\n",
    "RDD_combined  = monthly_count.repartition(1) \n",
    "sorted_count  = RDD_combined.sortBy(ascending = False, keyfunc=lambda k: k[1])\n",
    "\n",
    "print(sorted_count.take(10))\n",
    "# sorted_count.saveAsTextFile(\"A2_1\")"
   ]
  },
  {
   "cell_type": "code",
   "execution_count": 4,
   "metadata": {},
   "outputs": [
    {
     "name": "stdout",
     "output_type": "stream",
     "text": [
      "[('2014-01', 1), ('2014-02', 1), ('2014-03', 1), ('2014-05', 1), ('2014-06', 1), ('2014-08', 1), ('2014-09', 1), ('2014-12', 1), ('2013-11', 1), ('2013-12', 1)]\n"
     ]
    }
   ],
   "source": [
    "%%time\n",
    "## Q2_2\n",
    "# Distinct readings by station per month higher than 10 degrees\n",
    "\n",
    "# ((year-month),(station,1)) and only taking one reading per month per station\n",
    "filtered_temp = monthly_temp.map(lambda x: (x[0], (x[1][0],1))).distinct() \n",
    "\n",
    "# ((year-month), (station, count))\n",
    "dist_count = filtered_temp.reduceByKey(lambda a,b: (a[0], (a[1]+b[1])))\n",
    "\n",
    "# map to ((year-month), (count)) => combine => sort\n",
    "arranged_count = dist_count.map(lambda x: (x[0], x[1][1]))\n",
    "RDD_combined = arranged_count.repartition(1) \n",
    "sorted_count = RDD_combined.sortBy(ascending = False, keyfunc=lambda k: k[1])\n",
    "\n",
    "print(sorted_count.take(10))\n",
    "# sorted_count.saveAsTextFile(\"A2_2\")"
   ]
  },
  {
   "cell_type": "code",
   "execution_count": 5,
   "metadata": {},
   "outputs": [
    {
     "name": "stdout",
     "output_type": "stream",
     "text": [
      "[(('2014-07', '102170'), 19.65967741935484), (('2014-06', '102170'), 14.443333333333332), (('2014-08', '102170'), 13.869354838709679), (('2014-05', '102170'), 10.756451612903227), (('2014-09', '102170'), 8.584999999999999), (('2014-10', '102170'), 7.106451612903226), (('2014-04', '102170'), 4.776666666666667), (('2014-11', '102170'), 2.525), (('2014-03', '102170'), 1.8967741935483873), (('2013-12', '102170'), 0.7096774193548387)]\n"
     ]
    }
   ],
   "source": [
    "%%time\n",
    "## Q3\n",
    "# Average monthly temperature\n",
    "\n",
    "# ((year-month-day, station), (temperature))\n",
    "station_temp = lines.map(lambda x: ((x[1][0:10], x[0]), (float(x[3]))))\n",
    "# Readings during 1960-2014\n",
    "filtered_temp = station_temp.filter(lambda x: int(x[0][0][0:4]) >= 1960 and int(x[0][0][0:4]) <=2014)\n",
    "\n",
    "min_temp = filtered_temp.reduceByKey(min)\n",
    "max_temp = filtered_temp.reduceByKey(max)\n",
    "# ((year-month-day, station), (min, max))\n",
    "min_max  = min_temp.join(max_temp)\n",
    "\n",
    "# ((year-month, station), 1)\n",
    "counter = min_max.map(lambda x: ((x[0][0][0:7], x[0][1]), 1))\n",
    "# ((year-month, station), count)\n",
    "count   = counter.reduceByKey(lambda a,b: (a+b))\n",
    "\n",
    "# ((year-month, station), (min, max))\n",
    "daily_min_max = min_max.map(lambda x: ((x[0][0][0:7], x[0][1]), (x[1])))\n",
    "# ((year-month, station), (min_sum, max_sum))\n",
    "min_max_sum   = daily_min_max.reduceByKey(lambda a,b: ((a[0]+b[0]), (a[1]+b[1])))\n",
    "\n",
    "# ((year-month, station), ((min_sum, max_sum), count))\n",
    "joint_RDD = min_max_sum.join(count)\n",
    "\n",
    "# ((year-month, station), average) where average taken as (min_sum + max_sum / count * 2)\n",
    "avg_temp = joint_RDD.map(lambda x: (x[0], ((x[1][0][0]+x[1][0][1])/(x[1][1]*2))))\n",
    "avg_temp = avg_temp.sortBy(ascending = False, keyfunc=lambda k: k[1])\n",
    "\n",
    "print(avg_temp.take(10))\n",
    "# avg_temp.saveAsTextFile(\"A3\")"
   ]
  },
  {
   "cell_type": "code",
   "execution_count": 32,
   "metadata": {},
   "outputs": [
    {
     "name": "stdout",
     "output_type": "stream",
     "text": [
      "[(('103100', '1995-08-30'), 0.0), (('103100', '1995-08-31'), 0.0), (('103100', '1995-09-03'), 3.2), (('103100', '1995-09-04'), 12.3), (('103100', '1995-09-11'), 3.0000000000000004), (('103100', '1995-09-12'), 0.4), (('103100', '1995-09-14'), 0.0), (('103100', '1995-09-19'), 0.0), (('103100', '1995-09-20'), 0.3), (('103100', '1995-09-22'), 0.0)]\n"
     ]
    }
   ],
   "source": [
    "%%time\n",
    "## Q4\n",
    "# Stations with 25-30 degrees maximum temperature and 100-200mm maximum percipitation\n",
    "\n",
    "# This path is to the file on hdfs\n",
    "temperature_file = sc.textFile(\"Data/temperature-readings-small.csv\")\n",
    "# (station, year-month-day, time, temperature, quality)\n",
    "lines = temperature_file.map(lambda line: line.split(\";\"))\n",
    "\n",
    "# (station, temperature)\n",
    "station_temp = lines.map(lambda x: (x[0], float(x[3])))\n",
    "max_temp = station_temp.reduceByKey(max)\n",
    "# Maximum temperature between 25 and 30 degrees\n",
    "filtered_max_temp = max_temp.filter(lambda x: float(x[1])>=25 and float(x[1])<=30)\n",
    "\n",
    "percipitation_file = sc.textFile(\"Data/precipitation-readings.csv\")\n",
    "# (station, year-month-day, time, percipitation, quality)\n",
    "perc_lines = percipitation_file.map(lambda line: line.split(\";\"))\n",
    "\n",
    "# (station, percipitation)\n",
    "station_perc = perc_lines.map(lambda x: ((x[0], x[1]), (float(x[3]))))\n",
    "perc_sum = station_perc.reduceByKey(lambda a,b: (a+b))\n",
    "# Maximum percipitation between 100 and 200mm\n",
    "filtered_max_perc = perc_sum.filter(lambda x: x[1]>=100 and x[1]<=200).map(lambda x: (x[0][0], x[1]))\n",
    "\n",
    "result = filtered_max_temp.join(filtered_max_perc)\n",
    "result = result.repartition(1)\n",
    "\n",
    "print(perc_sum.take(10))\n",
    "# max_temp.saveAsTextFile(\"A3\")"
   ]
  },
  {
   "cell_type": "code",
   "execution_count": 51,
   "metadata": {},
   "outputs": [
    {
     "name": "stdout",
     "output_type": "stream",
     "text": [
      "[]\n"
     ]
    }
   ],
   "source": [
    "%%time\n",
    "\n",
    "# This path is to the file on hdfs\n",
    "stations_file = sc.textFile(\"Data/stations-Ostergotland.csv\")\n",
    "station_lines = stations_file.map(lambda line: line.split(\";\"))\n",
    "# (stations)\n",
    "stations = station_lines.map(lambda x: x[0]).collect()\n",
    "\n",
    "percipitation_file = sc.textFile(\"Data/precipitation-readings.csv\")\n",
    "# (station, year-month-day, time, percipitation, quality)\n",
    "perc_lines = percipitation_file.map(lambda line: line.split(\";\"))\n",
    "\n",
    "# ((station, year, month), (percipitation, 1))\n",
    "prec_rdd = perc_lines.map(lambda x: ((x[0], x[1][0:4], x[1][5:7]), (float(x[3]), 1)))\n",
    "precByStation = prec_rdd.filter(lambda x: x[0][0] in stations and int(x[0][1])>=1993 and int(x[0][1])<=2016)\n",
    "#precByStation = precByStation.map(lambda x: ((x[0][1], x[0][2]), x[1]))\n",
    "#precByStation = precByStation.reduceByKey(lambda x,y: (x[0]+y[0], x[1]+y[1])).map(lambda x: (x[0], x[1][0]/x[1][1])).sortByKey(False)\n",
    "#sortByKey(False)\n",
    "\n",
    "print(precByStation.take(10))\n",
    "#stations.saveAsTextFile(\"BDA/output/Lab_1/A5\")"
   ]
  },
  {
   "cell_type": "code",
   "execution_count": null,
   "metadata": {},
   "outputs": [],
   "source": []
  }
 ],
 "metadata": {
  "kernelspec": {
   "display_name": "Python 3",
   "language": "python",
   "name": "python3"
  },
  "language_info": {
   "codemirror_mode": {
    "name": "ipython",
    "version": 3
   },
   "file_extension": ".py",
   "mimetype": "text/x-python",
   "name": "python",
   "nbconvert_exporter": "python",
   "pygments_lexer": "ipython3",
   "version": "3.7.7"
  }
 },
 "nbformat": 4,
 "nbformat_minor": 4
}